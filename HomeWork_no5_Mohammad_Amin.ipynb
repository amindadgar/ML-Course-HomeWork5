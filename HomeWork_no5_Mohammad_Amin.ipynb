{
 "cells": [
  {
   "cell_type": "markdown",
   "metadata": {},
   "source": [
    "## Q1"
   ]
  },
  {
   "cell_type": "code",
   "execution_count": 2,
   "metadata": {},
   "outputs": [
    {
     "name": "stdout",
     "output_type": "stream",
     "text": [
      "pipenv, version 2021.5.29\n",
      "\n"
     ]
    }
   ],
   "source": [
    "## What is the version of pipenv\n",
    "!pipenv --version"
   ]
  },
  {
   "cell_type": "markdown",
   "metadata": {},
   "source": [
    "## Q2 <br>\n",
    "**First Hash for scikit-learn**\n",
    "sha256:121f78d6564000dc5e968394f45aac87981fcaaf2be40cfcd8f07b2baa1e1829"
   ]
  },
  {
   "cell_type": "markdown",
   "metadata": {},
   "source": [
    "## Q3"
   ]
  },
  {
   "cell_type": "code",
   "execution_count": 4,
   "metadata": {},
   "outputs": [
    {
     "name": "stderr",
     "output_type": "stream",
     "text": [
      "c:\\users\\amin\\appdata\\local\\programs\\python\\python38\\lib\\site-packages\\sklearn\\base.py:329: UserWarning: Trying to unpickle estimator DictVectorizer from version 1.0 when using version 0.23.2. This might lead to breaking code or invalid results. Use at your own risk.\n",
      "  warnings.warn(\n"
     ]
    }
   ],
   "source": [
    "import pickle\n",
    "from sklearn.feature_extraction import DictVectorizer\n",
    "from sklearn.linear_model import LogisticRegression\n",
    "\n",
    "with open('Homework#5/dv.bin','rb') as f_in:\n",
    "    dv = pickle.load(f_in)\n",
    "f_in.close()\n"
   ]
  },
  {
   "cell_type": "code",
   "execution_count": 5,
   "metadata": {},
   "outputs": [
    {
     "name": "stderr",
     "output_type": "stream",
     "text": [
      "c:\\users\\amin\\appdata\\local\\programs\\python\\python38\\lib\\site-packages\\sklearn\\base.py:329: UserWarning: Trying to unpickle estimator LogisticRegression from version 1.0 when using version 0.23.2. This might lead to breaking code or invalid results. Use at your own risk.\n",
      "  warnings.warn(\n"
     ]
    }
   ],
   "source": [
    "with open('model1.bin','rb') as f_in2:\n",
    "    model = pickle.load(f_in2)\n",
    "f_in.close()"
   ]
  },
  {
   "cell_type": "code",
   "execution_count": 6,
   "metadata": {},
   "outputs": [],
   "source": [
    "def predict_single(dv, model, customer):\n",
    "    ## Apply one hot encoding\n",
    "    custome_data = dv.transform([customer])\n",
    "    \n",
    "    prediction = model.predict_proba(custome_data)[:,1]  ## get the second prediction row\n",
    "    \n",
    "    return prediction "
   ]
  },
  {
   "cell_type": "code",
   "execution_count": 7,
   "metadata": {},
   "outputs": [
    {
     "name": "stdout",
     "output_type": "stream",
     "text": [
      "prediction value 0.115\n"
     ]
    }
   ],
   "source": [
    "customer = {\"contract\": \"two_year\", \"tenure\": 12, \"monthlycharges\": 19.7}\n",
    "\n",
    "value = predict_single(dv, model, customer)\n",
    "\n",
    "print('prediction value %s' % round(value[0],3))"
   ]
  },
  {
   "cell_type": "markdown",
   "metadata": {},
   "source": [
    "## Q4"
   ]
  },
  {
   "cell_type": "markdown",
   "metadata": {},
   "source": [
    "##### After running the churn service web server"
   ]
  },
  {
   "cell_type": "code",
   "execution_count": 34,
   "metadata": {},
   "outputs": [
    {
     "data": {
      "text/plain": [
       "{'churn': True, 'churn_probability': 0.9988892771007961}"
      ]
     },
     "execution_count": 34,
     "metadata": {},
     "output_type": "execute_result"
    }
   ],
   "source": [
    "import requests\n",
    "## A new customer to predict\n",
    "customer = {'contract': 'two_year', 'tenure': 1, 'monthlycharges': 10}\n",
    "\n",
    "url = 'http://localhost:9696/predict'\n",
    "## request the local web server\n",
    "response = requests.post(url, json=customer)\n",
    "\n",
    "result = response.json()\n",
    "\n",
    "result"
   ]
  },
  {
   "cell_type": "markdown",
   "metadata": {},
   "source": [
    "#### As we can see above the score of the customer churning is 0.998"
   ]
  },
  {
   "cell_type": "markdown",
   "metadata": {},
   "source": [
    "## Q5"
   ]
  },
  {
   "cell_type": "markdown",
   "metadata": {},
   "source": [
    "#### Build log"
   ]
  },
  {
   "cell_type": "markdown",
   "metadata": {},
   "source": [
    "[+] Building 4.9s (8/8) FINISHED                                                                                                    \n",
    "=> [internal] load build definition from Dockerfile                                                                          0.0s  \n",
    "=> => transferring dockerfile: 216B                                                                                          0.0s  \n",
    "=> [internal] load .dockerignore                                                                                             0.0s  \n",
    "=> => transferring context: 2B                                                                                               0.0s  \n",
    "=> [internal] load metadata for docker.io/agrigorev/zoomcamp-model:3.8.12-slim                                               4.6s  \n",
    "=> [internal] load build context                                                                                             0.0s  \n",
    "=> => transferring context: 58B                                                                                              0.0s  \n",
    "=> [1/3] FROM docker.io/agrigorev/zoomcamp-model:3.8.12-slim@sha256:1ee036b365452f8a1da0dbc3bf5e7dd0557cfd33f0e56b28054d1db  0.0s  \n",
    "=> CACHED [2/3] WORKDIR /app                                                                                                 0.0s  \n",
    "=> CACHED [3/3] COPY [model2.bin, dv.bin, ./]                                                                                0.0s  \n",
    "=> exporting to image                                                                                                        0.1s  \n",
    "=> => exporting layers                                                                                                       0.0s  \n",
    "=> => writing image sha256:923bb2d6c83d103a71c862b6c6ace68db9ccde28cc515bce12eeba9cb88c86a5                                  0.0s  \n",
    "=> => naming to docker.io/library/alexey-churn                                                                               0.0s  "
   ]
  },
  {
   "cell_type": "markdown",
   "metadata": {},
   "source": [
    "## Q6"
   ]
  },
  {
   "cell_type": "code",
   "execution_count": 13,
   "metadata": {},
   "outputs": [
    {
     "data": {
      "text/plain": [
       "{'churn': False, 'churn_probability': 0.1754496030637589}"
      ]
     },
     "execution_count": 13,
     "metadata": {},
     "output_type": "execute_result"
    }
   ],
   "source": [
    "customer = {\"contract\": \"two_year\", \"tenure\": 12, \"monthlycharges\": 10}\n",
    "\n",
    "url = 'http://localhost:9696/predict'\n",
    "## request the local web server\n",
    "response = requests.post(url, json=customer)\n",
    "\n",
    "result = response.json()\n",
    "\n",
    "result"
   ]
  }
 ],
 "metadata": {
  "kernelspec": {
   "display_name": "Python 3",
   "language": "python",
   "name": "python3"
  },
  "language_info": {
   "codemirror_mode": {
    "name": "ipython",
    "version": 3
   },
   "file_extension": ".py",
   "mimetype": "text/x-python",
   "name": "python",
   "nbconvert_exporter": "python",
   "pygments_lexer": "ipython3",
   "version": "3.8.6"
  }
 },
 "nbformat": 4,
 "nbformat_minor": 4
}
